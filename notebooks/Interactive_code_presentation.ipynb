{
 "cells": [
  {
   "cell_type": "markdown",
   "metadata": {
    "extensions": {
     "jupyter_dashboards": {
      "version": 1,
      "views": {
       "grid_default": {
        "col": 0,
        "height": 18,
        "hidden": false,
        "row": 0,
        "width": 12
       },
       "report_default": {
        "hidden": false
       }
      }
     }
    },
    "slideshow": {
     "slide_type": "slide"
    }
   },
   "source": [
    "# Communicating Code: \n",
    "### The Jupyter (notebook) environment\n",
    "\n",
    "<hr>\n",
    "<img src='https://jupyter.org/assets/homepage.png' style=\"display:block; width: 42%; margin-left: auto; margin-right: auto;\"> "
   ]
  },
  {
   "cell_type": "markdown",
   "metadata": {
    "extensions": {
     "jupyter_dashboards": {
      "version": 1,
      "views": {
       "grid_default": {
        "col": 0,
        "height": 12,
        "hidden": false,
        "row": 18,
        "width": 12
       },
       "report_default": {
        "hidden": false
       }
      }
     }
    },
    "slideshow": {
     "slide_type": "slide"
    }
   },
   "source": [
    "## Contents  \n",
    "* What are notebooks?  \n",
    "    * What are cells, and why do they have different types?  \n",
    "    * How can I start notebooks?\n",
    "* Including different media types  \n",
    "* Different kinds of plotting in notebooks  \n",
    "    * matplotlib (for MATLAB-fellows)  \n",
    "    * bokeh, plotly (for the aestheticians)  \n",
    "    * seaborn, altair (for the quick statistician)\n",
    "* NBextensions - the ACME shop for notebooks  \n",
    "* Communicate your science interactively - with widgets  \n",
    "* Potential of notebooks for teaching  \n",
    "    * Exercises in notebooks  \n",
    "    * Graded assignments in notebooks\n"
   ]
  },
  {
   "cell_type": "code",
   "execution_count": 1,
   "metadata": {
    "extensions": {
     "jupyter_dashboards": {
      "version": 1,
      "views": {
       "grid_default": {
        "hidden": true
       },
       "report_default": {
        "hidden": true
       }
      }
     }
    },
    "slideshow": {
     "slide_type": "skip"
    }
   },
   "outputs": [],
   "source": [
    "# imports\n",
    "# if for some reason you're still working on python 2.7, you can import from the future\n",
    "from __future__ import print_function, division\n",
    "\n",
    "# some basic libraries\n",
    "import numpy as np\n",
    "import matplotlib as mpl\n",
    "import matplotlib.pyplot as plt\n",
    "%matplotlib inline\n",
    "\n",
    "import pandas as pd\n",
    "import altair as alt"
   ]
  },
  {
   "cell_type": "markdown",
   "metadata": {
    "extensions": {
     "jupyter_dashboards": {
      "version": 1,
      "views": {
       "grid_default": {
        "hidden": true
       },
       "report_default": {
        "hidden": false
       }
      }
     }
    },
    "slideshow": {
     "slide_type": "slide"
    }
   },
   "source": [
    "## What are Jupyter notebooks?\n",
    "\n",
    "When hearing of the word notebook, we naturally think of something like this:\n",
    "![photo_notebook](https://images.unsplash.com/photo-1501290741922-b56c0d0884af?ixlib=rb-1.2.1&ixid=eyJhcHBfaWQiOjEyMDd9&auto=format&fit=crop&w=500&q=60)\n",
    "<a style=\"background-color:black;color:white;text-decoration:none;padding:4px 6px;font-family:-apple-system, BlinkMacSystemFont, &quot;San Francisco&quot;, &quot;Helvetica Neue&quot;, Helvetica, Ubuntu, Roboto, Noto, &quot;Segoe UI&quot;, Arial, sans-serif;font-size:12px;font-weight:bold;line-height:1.2;display:inline-block;border-radius:3px\" href=\"https://unsplash.com/@dandimmock?utm_medium=referral&amp;utm_campaign=photographer-credit&amp;utm_content=creditBadge\" target=\"_blank\" rel=\"noopener noreferrer\" title=\"Download free do whatever you want high-resolution photos from Dan Dimmock\"><span style=\"display:inline-block;padding:2px 3px\"><svg xmlns=\"http://www.w3.org/2000/svg\" style=\"height:12px;width:auto;position:relative;vertical-align:middle;top:-2px;fill:white\" viewBox=\"0 0 32 32\"><title>unsplash-logo</title><path d=\"M10 9V0h12v9H10zm12 5h10v18H0V14h10v9h12v-9z\"></path></svg></span><span style=\"display:inline-block;padding:2px 3px\">Dan Dimmock</span></a>\n",
    "\n",
    "Taking notes in such a notebook often comprises:  \n",
    "* Text  \n",
    "* Sketches / Figures  \n",
    "* maybe equations  \n",
    "* ..."
   ]
  },
  {
   "cell_type": "markdown",
   "metadata": {
    "slideshow": {
     "slide_type": "subslide"
    }
   },
   "source": [
    "[Jupyter notebooks](https://jupyter.org/) provide the same capabilities as *analogue* notebooks, only that they're *digital*, and with a focus on code.  \n",
    "<div class=\"alert alert-block alert-success\">\n",
    "Thus, they're **great** for: \n",
    "</div>\n",
    "* prototyping\n",
    "* testing things / ideas / code  \n",
    "* combining text, plots, media in a single, *interactive* document  \n",
    "* directly communicating your work by:   \n",
    "    * annotating figures code with explanatory text / equations\n",
    "    * exporting to various *static* file types  "
   ]
  },
  {
   "cell_type": "markdown",
   "metadata": {
    "slideshow": {
     "slide_type": "subslide"
    }
   },
   "source": [
    "<div class=\"alert alert-block alert-danger\">They're **not** so great for:  </div>\n",
    "* full fledged development  \n",
    "    * due to sequential cell-nature of notebooks  \n",
    "* big projects  \n",
    "    * as they may get a bit confusing when they get longer "
   ]
  },
  {
   "cell_type": "markdown",
   "metadata": {
    "slideshow": {
     "slide_type": "slide"
    }
   },
   "source": [
    "### How to start a notebook  \n",
    "Getting a complete jupyter-notebook environment might be easiest to work with a python distribution, which already comes with a complete software (i.e. library) package, such as [Anaconda](https://www.anaconda.com/distribution/).  \n",
    "With Anaconda installed, a jupyter-notebook server can easily be launched from the command line by typing `jupyter-notebook` or from the Anaconda navigator:  \n",
    "\n",
    "<img src=\"https://cdn-images-1.medium.com/max/1024/1*8VwF5RUh4vEf4FfrKMw7qg.png\" alt=\"Drawing\" style=\"width: 700px;\"/>"
   ]
  },
  {
   "cell_type": "markdown",
   "metadata": {
    "slideshow": {
     "slide_type": "slide"
    }
   },
   "source": [
    "## Cell - types\n",
    "**Text cells** can be used for _descriptive_ text and are ~~formatted~~ using `markdown`. They can render images, can show colors (both seen above). \n",
    "<hr>\n",
    "On top, they can display:  \n",
    "\n",
    "* Tables\n",
    "\n",
    "|Country   |Capacity (MW) 2018   |Share of national generation (%)   |  \n",
    "|---|--:|:-:|  \n",
    "|USA   |3691   |0.3   |  \n",
    "|Indonesia   |1948   |3.7   |  \n",
    "|Philippines   |1868   |27.0   |  \n",
    "\n",
    "Shoutout to [Markdown tables generator](https://www.tablesgenerator.com/markdown_tables)"
   ]
  },
  {
   "cell_type": "markdown",
   "metadata": {
    "slideshow": {
     "slide_type": "subslide"
    }
   },
   "source": [
    "* Equations  \n",
    "\n",
    "Rayleigh number after Wood 1982:\n",
    "\n",
    "$$ Ra = \\frac{K g \\alpha_f (\\rho c_p)_f H \\Delta T}{\\upsilon \\lambda} $$\n",
    "\n",
    "K = permeability  \n",
    "$\\alpha_f$ = volumetric thermal expansion coefficient of the fluid  \n",
    "$(\\rho c_p)_f$ = thermal capacity fluid  \n",
    "H = thickness  \n",
    "$\\Delta T$ = temperature difference across the layer  \n",
    "$\\upsilon$ = kinematic viscosity of the fluid  \n",
    "$\\lambda$ = effective thermal conductivity  "
   ]
  },
  {
   "cell_type": "markdown",
   "metadata": {
    "slideshow": {
     "slide_type": "subslide"
    }
   },
   "source": [
    "* Code with syntax highlighting  \n",
    "\n",
    "#### Python:\n",
    "```python  \n",
    "def pendulum(y,t,damping):\n",
    "    \"\"\"pendulum, damped and undamped\"\"\"\n",
    "    l = 0.4\n",
    "    m = 1.3\n",
    "    g = 9.91\n",
    "    omega = g/(l*m)\n",
    "    beta = 0.4\n",
    "    if damping == \"on\":\n",
    "        dy = -omega * np.sin(y[0]) - beta * y[1]\n",
    "        \n",
    "    if damping == \"off\":\n",
    "        dy = -omega**1 * np.sin(y[0])\n",
    "    \n",
    "    return np.array([y[1],dy])\n",
    "```"
   ]
  },
  {
   "cell_type": "markdown",
   "metadata": {
    "slideshow": {
     "slide_type": "subslide"
    }
   },
   "source": [
    "#### Fortran\n",
    "```fortran\n",
    "SUBROUTINE INPUT(X, Y, Z)\n",
    "REAL X,Y,Z\n",
    "PRINT *,'ENTER THREE NUMBERS => '\n",
    "READ *,X,Y,Z\n",
    "RETURN\n",
    "END\n",
    "```\n",
    "\n",
    "* and many more formatting things ..."
   ]
  },
  {
   "cell_type": "markdown",
   "metadata": {
    "slideshow": {
     "slide_type": "slide"
    }
   },
   "source": [
    "**Code cells** are of course used to write and *execute* code: everything from variable definition, over writing functions to plotting. Further, they can be used to display:  \n",
    "\n",
    "* HTML \n",
    "* Videos  \n",
    "* ..."
   ]
  },
  {
   "cell_type": "code",
   "execution_count": 15,
   "metadata": {
    "slideshow": {
     "slide_type": "subslide"
    }
   },
   "outputs": [
    {
     "data": {
      "text/html": [
       "<iframe src=\"https://earth.nullschool.net/\" width=\"800\" height=\"550\"></iframe>"
      ],
      "text/plain": [
       "<IPython.core.display.HTML object>"
      ]
     },
     "metadata": {},
     "output_type": "display_data"
    }
   ],
   "source": [
    "%%html\n",
    "<iframe src=\"https://earth.nullschool.net/\" width=\"800\" height=\"550\"></iframe>"
   ]
  },
  {
   "cell_type": "code",
   "execution_count": 11,
   "metadata": {
    "slideshow": {
     "slide_type": "subslide"
    }
   },
   "outputs": [
    {
     "data": {
      "text/html": [
       "<iframe src=\"https://playground.tensorflow.org\" width=\"800\" height=\"500\"></iframe>"
      ],
      "text/plain": [
       "<IPython.core.display.HTML object>"
      ]
     },
     "metadata": {},
     "output_type": "display_data"
    }
   ],
   "source": [
    "%%html\n",
    "<iframe src=\"https://playground.tensorflow.org\" width=\"800\" height=\"500\"></iframe>"
   ]
  },
  {
   "cell_type": "code",
   "execution_count": 13,
   "metadata": {
    "slideshow": {
     "slide_type": "subslide"
    }
   },
   "outputs": [
    {
     "data": {
      "image/jpeg": "[encoded data removed]",
      "text/html": [
       "\n",
       "        <iframe\n",
       "            width=\"600\"\n",
       "            height=\"400\"\n",
       "            src=\"https://www.youtube.com/embed/HW29067qVWk\"\n",
       "            frameborder=\"0\"\n",
       "            allowfullscreen\n",
       "        ></iframe>\n",
       "        "
      ],
      "text/plain": [
       "<IPython.lib.display.YouTubeVideo at 0x7f133becae48>"
      ]
     },
     "execution_count": 13,
     "metadata": {},
     "output_type": "execute_result"
    }
   ],
   "source": [
    "from IPython.display import YouTubeVideo\n",
    "YouTubeVideo('HW29067qVWk', width=600, height=400)"
   ]
  },
  {
   "cell_type": "markdown",
   "metadata": {
    "slideshow": {
     "slide_type": "slide"
    }
   },
   "source": [
    "### Plotting libraries in Python / IPython / Jupyter notebooks\n",
    "Many different plotting libraries with different focus exist for python. And there are always coming new. Here are just some examples:  \n",
    "* [matplotlib](https://matplotlib.org/): powerful backbone of many other libraries and rather _matlabesque_ in its usage  \n",
    "* [bokeh](https://docs.bokeh.org/en/latest/): an interactive plotting / visualization environment tailored towards web pages  \n",
    "* [plotly](https://plot.ly/python/): a different powerful library for _publication-ready_ graphs. Part of [Plotly](https://plot.ly/) who also develop [dash](https://plot.ly/dash/) (web-based apps for data analysis)  \n",
    "* [seaborn](https://seaborn.pydata.org/): a fully fledged visualization library for data analysis, built on top of matplotlib  \n",
    "* [altair](https://altair-viz.github.io/): a _declarative_ statistical visualization library based on [vega](https://vega.github.io/vega/)"
   ]
  },
  {
   "cell_type": "code",
   "execution_count": 77,
   "metadata": {
    "code_folding": [
     0
    ],
    "extensions": {
     "jupyter_dashboards": {
      "version": 1,
      "views": {
       "grid_default": {
        "col": 0,
        "height": 8,
        "hidden": false,
        "row": 30,
        "width": 4
       },
       "report_default": {
        "hidden": false
       }
      }
     }
    },
    "slideshow": {
     "slide_type": "slide"
    }
   },
   "outputs": [
    {
     "data": {
      "image/png": "[encoded data removed]",
      "text/plain": [
       "<Figure size 720x576 with 1 Axes>"
      ]
     },
     "metadata": {},
     "output_type": "display_data"
    }
   ],
   "source": [
    "# normal figure\n",
    "fig = plt.figure(figsize=[10,8])\n",
    "ax = fig.add_axes((0.1, 0.2, 0.8, 0.7))\n",
    "ax.spines['right'].set_color('none')\n",
    "ax.spines['top'].set_color('none')\n",
    "ax.set_xticks([])\n",
    "ax.set_yticks([])\n",
    "ax.set_ylim([-5, 5])\n",
    "\n",
    "time = np.arange(100)\n",
    "data = np.ones(100)\n",
    "data_orig = data.copy()\n",
    "#data[60:] += np.arange(0,10,.34)**2\n",
    "data[60:] -= 0.1 * np.arange(40)\n",
    "data2 = data[60:] + 0.15 * np.arange(40)\n",
    "\n",
    "ax.annotate(\n",
    "    'THE DAY I PRESENTED\\n A JUPYTER NOTEBOOK\\n AT WORK',\n",
    "    xy=(60, 1), arrowprops=dict(arrowstyle='->'), xytext=(20, -2))\n",
    "\n",
    "ax.annotate(\n",
    "    '',\n",
    "    xy=(97, -2.5), arrowprops=dict(arrowstyle='->'), xytext=(110, 1.1))\n",
    "ax.annotate(\n",
    "    '',\n",
    "    xy=(97, 2.75), arrowprops=dict(arrowstyle='->'), xytext=(110, 1.5))\n",
    "ax.annotate(\n",
    "    'ALTERNATIVE FUTURES',\n",
    "    xy=(99, 1), arrowprops=dict(arrowstyle='->'), xytext=(110, 1.2))\n",
    "\n",
    "ax.plot(time,data)\n",
    "ax.plot(time[60:],data2)\n",
    "ax.plot(time[60:],data_orig[60:])\n",
    "\n",
    "ax.set_xlabel('time')\n",
    "ax.set_ylabel('usage of Jupyter notebooks in the group');"
   ]
  },
  {
   "cell_type": "code",
   "execution_count": 76,
   "metadata": {
    "code_folding": [
     0
    ],
    "extensions": {
     "jupyter_dashboards": {
      "version": 1,
      "views": {
       "grid_default": {
        "col": 4,
        "height": 7,
        "hidden": false,
        "row": 30,
        "width": 4
       },
       "report_default": {
        "hidden": false
       }
      }
     }
    },
    "slideshow": {
     "slide_type": "slide"
    }
   },
   "outputs": [
    {
     "data": {
      "image/png": "[encoded data removed]",
      "text/plain": [
       "<Figure size 720x576 with 1 Axes>"
      ]
     },
     "metadata": {},
     "output_type": "display_data"
    }
   ],
   "source": [
    "with plt.xkcd():\n",
    "    # Based on \"Stove Ownership\" from XKCD by Randall Munroe\n",
    "    # https://xkcd.com/418/\n",
    "\n",
    "    fig = plt.figure(figsize=[10,8])\n",
    "    ax = fig.add_axes((0.1, 0.2, 0.8, 0.7))\n",
    "    ax.spines['right'].set_color('none')\n",
    "    ax.spines['top'].set_color('none')\n",
    "    ax.set_xticks([])\n",
    "    ax.set_yticks([])\n",
    "    ax.set_ylim([-5, 5])\n",
    "    \n",
    "    time = np.arange(100)\n",
    "    data = np.ones(100)\n",
    "    data_orig = data.copy()\n",
    "    #data[60:] += np.arange(0,10,.34)**2\n",
    "    data[60:] -= 0.1 * np.arange(40)\n",
    "    data2 = data[60:] + 0.15 * np.arange(40)\n",
    "\n",
    "    ax.annotate(\n",
    "        'THE DAY I PRESENTED\\n A JUPYTER NOTEBOOK\\n AT WORK',\n",
    "        xy=(60, 1), arrowprops=dict(arrowstyle='->'), xytext=(20, -2))\n",
    "    ax.annotate(\n",
    "        '',\n",
    "        xy=(97, -2.5), arrowprops=dict(arrowstyle='->'), xytext=(110, 1.1))\n",
    "    ax.annotate(\n",
    "        '',\n",
    "        xy=(97, 2.75), arrowprops=dict(arrowstyle='->'), xytext=(110, 1.5))\n",
    "    ax.annotate(\n",
    "        'ALTERNATIVE FUTURES',\n",
    "        xy=(99, 1), arrowprops=dict(arrowstyle='->'), xytext=(110, 1.2))\n",
    "\n",
    "    ax.plot(time,data)\n",
    "    ax.plot(time[60:],data2)\n",
    "    ax.plot(time[60:],data_orig[60:])\n",
    "\n",
    "    ax.set_xlabel('time')\n",
    "    ax.set_ylabel('usage of Jupyter notebooks in the group')"
   ]
  },
  {
   "cell_type": "code",
   "execution_count": null,
   "metadata": {
    "extensions": {
     "jupyter_dashboards": {
      "version": 1,
      "views": {
       "grid_default": {
        "hidden": true
       },
       "report_default": {
        "hidden": true
       }
      }
     }
    }
   },
   "outputs": [],
   "source": []
  }
 ],
 "metadata": {
  "celltoolbar": "Slideshow",
  "extensions": {
   "jupyter_dashboards": {
    "activeView": "grid_default",
    "version": 1,
    "views": {
     "grid_default": {
      "cellMargin": 10,
      "defaultCellHeight": 20,
      "maxColumns": 12,
      "name": "grid",
      "type": "grid"
     },
     "report_default": {
      "name": "report",
      "type": "report"
     }
    }
   }
  },
  "hide_input": false,
  "kernelspec": {
   "display_name": "Python 3",
   "language": "python",
   "name": "python3"
  },
  "language_info": {
   "codemirror_mode": {
    "name": "ipython",
    "version": 3
   },
   "file_extension": ".py",
   "mimetype": "text/x-python",
   "name": "python",
   "nbconvert_exporter": "python",
   "pygments_lexer": "ipython3",
   "version": "3.6.1"
  },
  "toc": {
   "base_numbering": 1,
   "nav_menu": {},
   "number_sections": false,
   "sideBar": true,
   "skip_h1_title": false,
   "title_cell": "Table of Contents",
   "title_sidebar": "Contents",
   "toc_cell": false,
   "toc_position": {},
   "toc_section_display": true,
   "toc_window_display": false
  },
  "varInspector": {
   "cols": {
    "lenName": 16,
    "lenType": 16,
    "lenVar": 40
   },
   "kernels_config": {
    "python": {
     "delete_cmd_postfix": "",
     "delete_cmd_prefix": "del ",
     "library": "var_list.py",
     "varRefreshCmd": "print(var_dic_list())"
    },
    "r": {
     "delete_cmd_postfix": ") ",
     "delete_cmd_prefix": "rm(",
     "library": "var_list.r",
     "varRefreshCmd": "cat(var_dic_list()) "
    }
   },
   "types_to_exclude": [
    "module",
    "function",
    "builtin_function_or_method",
    "instance",
    "_Feature"
   ],
   "window_display": false
  }
 },
 "nbformat": 4,
 "nbformat_minor": 2
}
